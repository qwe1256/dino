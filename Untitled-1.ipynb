{
 "cells": [
  {
   "cell_type": "code",
   "execution_count": 22,
   "metadata": {},
   "outputs": [],
   "source": [
    "import pickle\n",
    "import os\n",
    "import numpy as np\n",
    "def unpickle(file):\n",
    "    with open(file, 'rb') as fo:\n",
    "        dict = pickle.load(fo)\n",
    "    return dict"
   ]
  },
  {
   "cell_type": "code",
   "execution_count": 23,
   "metadata": {},
   "outputs": [],
   "source": [
    "import os\n",
    "import pickle\n",
    "import imageio\n",
    "import matplotlib.pyplot as plt\n",
    "import numpy as np\n",
    "\n",
    "def load_validation_data(data_folder, mean_image, img_size=32):\n",
    "    test_file = os.path.join(data_folder, 'val_data')\n",
    "\n",
    "    d = unpickle(test_file)\n",
    "    x = d['data']\n",
    "    y = d['labels']\n",
    "    x = x / np.float32(255)\n",
    "\n",
    "    # Labels are indexed from 1, shift it so that indexes start at 0\n",
    "    y = np.array([i-1 for i in y])\n",
    "\n",
    "    # Remove mean (computed from training data) from images\n",
    "    x -= mean_image\n",
    "\n",
    "    img_size2 = img_size * img_size\n",
    "\n",
    "    x = np.dstack((x[:, :img_size2], x[:, img_size2:2*img_size2], x[:, 2*img_size2:]))\n",
    "    x = x.reshape((x.shape[0], img_size, img_size, 3)).transpose(0, 3, 1, 2)\n",
    "\n",
    "    return dict(\n",
    "        X_test=x,\n",
    "        Y_test=y.astype('int64'))\n",
    "\n",
    "\n",
    "def load_data_batch(data_folder, idx, img_size=64):\n",
    "    data_file = os.path.join(data_folder, 'train_data_batch_')\n",
    "\n",
    "    d = unpickle(data_file + str(idx))\n",
    "    x = d['data']\n",
    "    y = d['labels']\n",
    "    mean_image = d['mean']\n",
    "\n",
    "    x = x / np.float32(255)\n",
    "    mean_image = mean_image / np.float32(255)\n",
    "\n",
    "    # Labels are indexed from 1, shift it so that indexes start at 0\n",
    "    y = [i-1 for i in y]\n",
    "    data_size = x.shape[0]\n",
    "\n",
    "    x -= mean_image\n",
    "\n",
    "    img_size2 = img_size * img_size\n",
    "\n",
    "    x = np.dstack((x[:, :img_size2], x[:, img_size2:2*img_size2], x[:, 2*img_size2:]))\n",
    "    x = x.reshape((x.shape[0], img_size, img_size, 3)).transpose(0, 3, 1, 2)\n",
    "\n",
    "    # create mirrored images\n",
    "    X_train = x[0:data_size, :, :, :]\n",
    "    Y_train = y[0:data_size]\n",
    "    X_train_flip = X_train[:, :, :, ::-1]\n",
    "    Y_train_flip = Y_train\n",
    "    X_train = np.concatenate((X_train, X_train_flip), axis=0)\n",
    "    Y_train = np.concatenate((Y_train, Y_train_flip), axis=0)\n",
    "\n",
    "    return dict(\n",
    "        X_train=X_train,\n",
    "        Y_train=Y_train.astype('int64'),\n",
    "        mean=mean_image)"
   ]
  },
  {
   "cell_type": "code",
   "execution_count": 26,
   "metadata": {},
   "outputs": [],
   "source": [
    "def get_images(f, img_size=32):\n",
    "\n",
    "    d = unpickle(f)\n",
    "    x = d['data']\n",
    "    img_size = 64\n",
    "    img_size2 = 64 * 64\n",
    "    x = np.dstack((x[:, :img_size2], x[:, img_size2:2*img_size2], x[:, 2*img_size2:]))\n",
    "    x = x.reshape((x.shape[0], img_size, img_size, 3))\n",
    "    print(x.shape)\n",
    "    return x, d['labels']\n",
    "    "
   ]
  },
  {
   "cell_type": "code",
   "execution_count": 35,
   "metadata": {},
   "outputs": [],
   "source": [
    "for i in range(1000):\n",
    "    # I don't know the original name of directories in ImageNet.\n",
    "    # I think 0,1,2...100 is enough\n",
    "    \n",
    "    #os.mkdir(r'C:\\Users\\49056\\Study\\I2 Research\\Imagenet\\Imagenet64_val\\val\\%05d' % (i+1))\n",
    "    #path = r\"C:\\Users\\49056\\Study\\I2 Research\\Imagenet\\Imagenet64_train\"\n",
    "    #os.mkdir(f'{path}/train/%05d' % (i+1))"
   ]
  },
  {
   "cell_type": "code",
   "execution_count": 47,
   "metadata": {},
   "outputs": [
    {
     "name": "stdout",
     "output_type": "stream",
     "text": [
      "(50000, 64, 64, 3)\n"
     ]
    }
   ],
   "source": [
    "# load validation batch data and decompress and save\n",
    "data_folder = r\"C:\\Users\\49056\\Study\\I2 Research\\Imagenet\\Imagenet64_val\\val_data\"\n",
    "num_classes = 1000\n",
    "write_dir = r\"C:\\Users\\49056\\Study\\I2 Research\\Imagenet\\Imagenet64_val\\val\"\n",
    "val_data, labels = get_images(data_folder, 64)\n",
    "k = 1\n",
    "for i, e in enumerate(val_data):\n",
    "    imageio.imwrite(f'{write_dir}/%05d/%08d.png' % (labels[i], i), e)"
   ]
  },
  {
   "cell_type": "code",
   "execution_count": 48,
   "metadata": {},
   "outputs": [
    {
     "name": "stdout",
     "output_type": "stream",
     "text": [
      "(128116, 64, 64, 3)\n",
      "1\n",
      "[572, 958, 785]\n",
      "(128116, 64, 64, 3)\n",
      "2\n",
      "[464, 917, 257]\n",
      "(128116, 64, 64, 3)\n",
      "3\n",
      "[806, 535, 306]\n",
      "(128116, 64, 64, 3)\n",
      "4\n",
      "[291, 886, 421]\n",
      "(128116, 64, 64, 3)\n",
      "5\n",
      "[37, 319, 292]\n",
      "(128116, 64, 64, 3)\n",
      "6\n",
      "[29, 432, 482]\n",
      "(128116, 64, 64, 3)\n",
      "7\n",
      "[439, 941, 735]\n",
      "(128116, 64, 64, 3)\n",
      "8\n",
      "[758, 258, 381]\n",
      "(128116, 64, 64, 3)\n",
      "9\n",
      "[323, 596, 528]\n",
      "(128123, 64, 64, 3)\n",
      "10\n",
      "[833, 426, 719]\n"
     ]
    }
   ],
   "source": [
    "# load train batch data and save into png file\n",
    "k = 1\n",
    "data_folder = r\"C:\\Users\\49056\\Study\\I2 Research\\Imagenet\\Imagenet64_train\"\n",
    "write_dir = r\"C:\\Users\\49056\\Study\\I2 Research\\Imagenet\\Imagenet64_train\\train\"\n",
    "for i in range(1, 11):\n",
    "    f = os.path.join(data_folder, 'train_data_batch_') + str(i)\n",
    "    train_data, labels = get_images(f, 64)\n",
    "    print(i)\n",
    "    print(labels[:3])\n",
    "    for j, e in enumerate(train_data):\n",
    "        imageio.imwrite(f'{write_dir}/%05d/%08d.png' % (labels[j], k), e)\n",
    "        k += 1"
   ]
  },
  {
   "cell_type": "code",
   "execution_count": 14,
   "metadata": {},
   "outputs": [],
   "source": [
    "\n"
   ]
  },
  {
   "cell_type": "code",
   "execution_count": null,
   "metadata": {},
   "outputs": [],
   "source": []
  }
 ],
 "metadata": {
  "kernelspec": {
   "display_name": "Python 3.10.4 ('i2')",
   "language": "python",
   "name": "python3"
  },
  "language_info": {
   "codemirror_mode": {
    "name": "ipython",
    "version": 3
   },
   "file_extension": ".py",
   "mimetype": "text/x-python",
   "name": "python",
   "nbconvert_exporter": "python",
   "pygments_lexer": "ipython3",
   "version": "3.10.4"
  },
  "orig_nbformat": 4,
  "vscode": {
   "interpreter": {
    "hash": "88300239d43ee5590379d36444c300eb3d64ae8c4ed985f59c8e4c4f024467f6"
   }
  }
 },
 "nbformat": 4,
 "nbformat_minor": 2
}
